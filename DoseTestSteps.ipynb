{
 "cells": [
  {
   "cell_type": "markdown",
   "id": "20b273d8",
   "metadata": {},
   "source": [
    "# DoseTestSteps.py\n",
    "Calculates doses for multiplicative dose step in an electron beam lithography dose test\n",
    "\n",
    "Alan R. Bleier, Cornell NanoScale Facility, April 17, 2023\n",
    "\n",
    "To use this script, enter: \n",
    "\n",
    "* N, the number of doses\n",
    "* D_0, the initial dose\n",
    "* D_N, the final dose\n",
    "* OutputFileLocation, ending in \"/\"\n",
    "* jdiName, the JEOL .jdi file name for the modulation table, including the \".jdi\" at the end\n",
    "\n",
    "Then run it in a jupyter notebook, or at a unix command line using\n",
    "\n",
    "```\n",
    "python3 DoseTestSteps.py\n",
    "```\n",
    "\n",
    "Output:\n",
    "\n",
    "* Comma separated variable files of relative doses for reading into LayoutBEAMER Feature Dose Assignment module, using the Import... button (see the GenISys application note \"Resist Contrast Measurement\")\n",
    "    * Relative doses assigned to layer values  \n",
    "    * Relative doses assigned to datatype values  \n",
    "* JEOL .jdi file\n",
    "\n",
    "**The GDS file for a contrast curve or a dose test is assumed to contain multiple copies of the same pattern in layers 1 through N. The .jdi file produced by this script can be included in the job deck file to assign relative doses to each layer. **\n",
    "\n",
    "**If the GenISys LayoutBEAMER Feature Dose Assignment (\"FDA\") module imports the comma separated list produced by this script, it assigns doses to JEOL shot ranks 0 through N-1. So if FDA is used, the .jdi file produced by LayoutBEAMER should be used, NOT the .jdi file produced by this script.**\n",
    "\n",
    "If proximity correction is needed for the dose test, then it is not possible to use multiple copies of the same pattern in one GDS file. In this case, one can just use the list of doses as base doses in multiple exposures in the JEOL schedule file.\n",
    "\n",
    "See https://github.com/ableier/ebltools/blob/master/LICENSE for copyright and license."
   ]
  },
  {
   "cell_type": "code",
   "execution_count": 1,
   "id": "69334b57",
   "metadata": {},
   "outputs": [
    {
     "name": "stdout",
     "output_type": "stream",
     "text": [
      "Number of doses:  18\n",
      "Initial dose: 75.0 uC/cm^2\n",
      "Final dose: 700.0 uC/cm^2\n",
      "Multiplicative factor from one step to the next:  1.1404099211574652\n",
      "\n"
     ]
    }
   ],
   "source": [
    "N = 18\n",
    "D_0 = 75.0 # Must be a floating point number, not integer\n",
    "D_N = 700.0 # Must be a floating point number, not integer\n",
    "OutputFileLocation = \"/afs/cnf.cornell.edu/home/staff/bleier_a/private/CAD/\"\n",
    "jdiName = \"modulationtable.jdi\"\n",
    "\n",
    "print(\"Number of doses:  \" + str(N))\n",
    "print(\"Initial dose: \" + str(D_0) + \" uC/cm^2\")\n",
    "print(\"Final dose: \" + str(D_N) + \" uC/cm^2\")\n",
    "\n",
    "import numpy as np\n",
    "f=np.exp((1/(N-1)) * (np.log(D_N) - np.log(D_0) ) )\n",
    "print(\"Multiplicative factor from one step to the next: \", str(f) + \"\\n\")"
   ]
  },
  {
   "cell_type": "code",
   "execution_count": 2,
   "id": "57ee0dab",
   "metadata": {},
   "outputs": [
    {
     "name": "stdout",
     "output_type": "stream",
     "text": [
      "Doses: \n",
      "[75.0, 85.5, 97.5, 111.2, 126.9, 144.7, 165.0, 188.1, 214.6, 244.7, 279.0, 318.2, 362.9, 413.9, 472.0, 538.2, 613.8, 700.0]\n",
      "\n",
      "Mean dose: 286.2 uC/cm^2\n",
      "\n"
     ]
    }
   ],
   "source": [
    "doses = []\n",
    "roundedDoses = []\n",
    "relativeDoses = []\n",
    "modulationTable = []\n",
    "\n",
    "for n in range(1, N+1):\n",
    "    doses.append(D_0 * f**(n-1))\n",
    "    roundedDoses.append(round(D_0 * f**(n-1), 1))\n",
    "\n",
    "print(\"Doses: \" + \"\\n\" + str(roundedDoses) + \"\\n\") \n",
    "print (\"Mean dose: \" + str(round(np.mean(doses), 1)) + \" uC/cm^2\" + \"\\n\")"
   ]
  },
  {
   "cell_type": "code",
   "execution_count": 3,
   "id": "490be170",
   "metadata": {},
   "outputs": [
    {
     "name": "stdout",
     "output_type": "stream",
     "text": [
      "Modulation table for JEOL job deck file: \n",
      "MOD001: MODULAT ( (1, 0.0),  (2, 14.0),  (3, 30.1),  (4, 48.3),  (5, 69.1),  (6, 92.9),  (7, 120.0),  (8, 150.9),  (9, 186.1),  (10, 226.2),  (11, 272.1),  (12, 324.3),  (13, 383.9),  (14, 451.8),  (15, 529.3),  (16, 617.7),  (17, 718.4),  (18, 833.3))\n",
      "\n"
     ]
    }
   ],
   "source": [
    "percentIncreasesForJDF = []\n",
    "for n in range(0, N):\n",
    "    percentIncreasesForJDF.append(round(100.0*(f**(n)-1),1))\n",
    "# print(\"Percent increases from base dose, for JEOL job deck file: \" + \"\\n\" + str(percentIncreasesForJDF) + \"\\n\")\n",
    "\n",
    "# modulation table should look like this: MOD001: MODULAT ((0, 20.0), (1, 25.0))\n",
    "\n",
    "modulationTable.clear()\n",
    "modulationTable.append(\"MOD001: MODULAT (\")\n",
    "for n in range(0, N-1):\n",
    "    modulationTable.append(\"(\" + str(n+1) + \", \" + str(percentIncreasesForJDF[n]) + \"), \") \n",
    "modulationTable.append(\"(\" + str(N) + \", \" + str(percentIncreasesForJDF[N-1]) + \"))\")\n",
    "print(\"Modulation table for JEOL job deck file: \")\n",
    "print(' '.join(modulationTable) + \"\\n\")"
   ]
  },
  {
   "cell_type": "code",
   "execution_count": 4,
   "id": "a23cc1e9",
   "metadata": {},
   "outputs": [
    {
     "name": "stdout",
     "output_type": "stream",
     "text": [
      "The list of doses assigned to GDS layers for use with the LayoutBEAMER Feature Dose Assignment module is /afs/cnf.cornell.edu/home/staff/bleier_a/private/CAD/LayersDosesList.csv\n",
      "\n",
      "The list of doses assigned to GDS datatypes for use with the LayoutBEAMER Feature Dose Assignment module is /afs/cnf.cornell.edu/home/staff/bleier_a/private/CAD/DatatypesDosesList.csv\n",
      "\n"
     ]
    }
   ],
   "source": [
    "# Write comma separated variable file of relative doses for reading into LayoutBEAMER Feature Dose Assignment \n",
    "# module, using the Import... button (see the GenISys application note \"Resist Contrast Measurement\")\n",
    "\n",
    "for n in range(0, N):\n",
    "    relativeDoses.append(doses[n]/doses[0])\n",
    "# print(\"Doses relative to first dose: \" + \"\\n\" + str(relativeDoses))\n",
    "\n",
    "LayersDosesList = OutputFileLocation + \"LayersDosesList.csv\"\n",
    "print(\"The list of doses assigned to GDS layers for use with the LayoutBEAMER Feature Dose Assignment module is \" + LayersDosesList + \"\\n\")\n",
    "file1 = open(LayersDosesList, \"w\")\n",
    "for n in range(0, N):\n",
    "    file1.write(str(n+1) + \"(0),\" + str(relativeDoses[n]) + \"\\n\")\n",
    "file1.close()\n",
    "\n",
    "DatatypesDosesList = OutputFileLocation + \"DatatypesDosesList.csv\"\n",
    "print(\"The list of doses assigned to GDS datatypes for use with the LayoutBEAMER Feature Dose Assignment module is \" + DatatypesDosesList + \"\\n\")\n",
    "file1 = open(OutputFileLocation + \"DatatypesDosesList.csv\", \"w\")\n",
    "for n in range(0, N):\n",
    "    file1.write(\"0\" + \"(\" + str(n+1) + \"),\" + str(relativeDoses[n]) + \"\\n\")\n",
    "file1.close()"
   ]
  },
  {
   "cell_type": "code",
   "execution_count": 5,
   "id": "eacf620a",
   "metadata": {},
   "outputs": [
    {
     "name": "stdout",
     "output_type": "stream",
     "text": [
      "The JEOL jdi file is /afs/cnf.cornell.edu/home/staff/bleier_a/private/CAD/modulationtable.jdi\n"
     ]
    }
   ],
   "source": [
    "# Write JEOL .jdi modulation table file\n",
    "\n",
    "jdiFile = OutputFileLocation + jdiName\n",
    "print(\"The JEOL jdi file is \" + jdiFile)\n",
    "file1 = open(jdiFile, \"w\")\n",
    "modulationTableString=str(' '.join(modulationTable))\n",
    "file1.write(modulationTableString + \"\\n\\n\" + \"; Modulation table for manual assignment of doses to layers \\n; Not for use when BEAMER FDA module has been used\\n\")\n",
    "file1.close()"
   ]
  },
  {
   "cell_type": "code",
   "execution_count": null,
   "id": "30bd0115",
   "metadata": {},
   "outputs": [],
   "source": []
  }
 ],
 "metadata": {
  "kernelspec": {
   "display_name": "Python 3",
   "language": "python",
   "name": "python3"
  },
  "language_info": {
   "codemirror_mode": {
    "name": "ipython",
    "version": 3
   },
   "file_extension": ".py",
   "mimetype": "text/x-python",
   "name": "python",
   "nbconvert_exporter": "python",
   "pygments_lexer": "ipython3",
   "version": "3.10.6"
  }
 },
 "nbformat": 4,
 "nbformat_minor": 5
}
